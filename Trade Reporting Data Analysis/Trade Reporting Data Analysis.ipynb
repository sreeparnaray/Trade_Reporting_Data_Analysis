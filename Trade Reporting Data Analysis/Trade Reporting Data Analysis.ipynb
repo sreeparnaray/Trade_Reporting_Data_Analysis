{
 "cells": [
  {
   "cell_type": "markdown",
   "id": "ea8cf90b",
   "metadata": {},
   "source": [
    "# PYTHON ASSIGNMENT\n",
    "### Problem Statement: Trade Reporting data Analysis\n",
    "You have been given a dataset containing Regulatory trade reports for a financial institution.\n",
    "malikjb35/pythonTest (github.com)\n",
    "#### Problem 1\n",
    "1. Exploratory Data Analysis and provide insight from the data: Conduct analysis on the dataset\n",
    "to gather insights and generate relevant statistics.\n",
    "2. Data Visualization: Create visualizations to present the results of the data analysis.\n",
    "3. Reporting: Generate a summary report that presents the findings from the data analysis and\n",
    "visualizations. Include key insights.\n",
    "\n",
    "#### Problem 2\n",
    "- Perform required data standardisation and normalization activities.\n",
    "- Find Association, correlation among columns in above dataset.\n",
    "- Find categorical features from this dataset for a classification model(use reporting status column as target vector if needed)\n",
    "- Implement the encoding strategy for such identified columns.\n",
    "- Group similar transaction together and identify no of such similar group."
   ]
  },
  {
   "cell_type": "markdown",
   "id": "1ae16daa",
   "metadata": {},
   "source": [
    "### Problem 1 Solution :\n",
    "#### 1. Exploratory Data Analysis and provide insight from the data: Conduct analysis on the dataset to gather insights and generate relevant statistics"
   ]
  },
  {
   "cell_type": "code",
   "execution_count": 95,
   "id": "23c1dc8a",
   "metadata": {},
   "outputs": [],
   "source": [
    "# Import the libraries\n",
    "import pandas as pd\n",
    "import matplotlib.pyplot as plt\n",
    "import seaborn as sns"
   ]
  },
  {
   "cell_type": "code",
   "execution_count": 96,
   "id": "796662ae",
   "metadata": {},
   "outputs": [
    {
     "name": "stderr",
     "output_type": "stream",
     "text": [
      "C:\\Users\\SREEPARNA\\anaconda3\\lib\\site-packages\\IPython\\core\\interactiveshell.py:3444: DtypeWarning: Columns (15) have mixed types.Specify dtype option on import or set low_memory=False.\n",
      "  exec(code_obj, self.user_global_ns, self.user_ns)\n"
     ]
    }
   ],
   "source": [
    "# Load the dataset\n",
    "data = pd.read_csv(\"D:/USER/SREE/Jupyter Notebook Workspace/Assignments/Trade Reporting Data Analysis/Testdata.csv\")"
   ]
  },
  {
   "cell_type": "code",
   "execution_count": 97,
   "id": "a570606f",
   "metadata": {},
   "outputs": [
    {
     "name": "stdout",
     "output_type": "stream",
     "text": [
      "(50000, 26)\n"
     ]
    }
   ],
   "source": [
    "# Check Dimension of the data\n",
    "print(data.shape)"
   ]
  },
  {
   "cell_type": "code",
   "execution_count": 98,
   "id": "c647efa0",
   "metadata": {},
   "outputs": [
    {
     "name": "stdout",
     "output_type": "stream",
     "text": [
      "   tradeId regulator  version assetClass                   clDateTime  \\\n",
      "0        1      SEBI        1         FX  2023-07-18T11:47:26.075000Z   \n",
      "1        2      SEBI        9         FX  2023-08-02T03:12:48.207000Z   \n",
      "2        3      SEBI        8         FX  2023-05-09T07:42:36.475000Z   \n",
      "3        4      SEBI        1         FX  2023-10-01T05:02:54.209000Z   \n",
      "4        5      SEBI        1         FX  2023-01-23T20:53:01.076000Z   \n",
      "\n",
      "   clStatus   cflag  eFlag                    cDateTime         method  ...  \\\n",
      "0      True   FULLY  False  2023-12-10T07:37:58.548000Z  NonElectronic  ...   \n",
      "1     False   FULLY  False  2023-10-03T22:32:10.991000Z   NotConfirmed  ...   \n",
      "2     False   FULLY  False  2023-03-09T20:32:31.302000Z  NonElectronic  ...   \n",
      "3     False   FULLY   True  2023-11-21T06:53:09.983000Z     Electronic  ...   \n",
      "4      True  ONEWAY  False  2023-08-05T17:06:08.895000Z     Electronic  ...   \n",
      "\n",
      "   seller                      endDate     sType  Product        price  \\\n",
      "0  Party1  2023-05-26T05:23:44.110000Z      Cash     Swap          NaN   \n",
      "1  Party2  2023-07-23T23:43:15.460000Z      Cash     Swap          NaN   \n",
      "2  Party2  2023-08-08T11:13:43.217000Z  Physical     Swap          NaN   \n",
      "3  Party2  2023-07-31T19:30:37.266000Z      Cash  forward  91773.25433   \n",
      "4  Party1  2023-12-04T19:38:57.326000Z      Cash     Swap          NaN   \n",
      "\n",
      "               terminationDate   party PartyId transactionType  \\\n",
      "0  2023-07-02T04:01:17.940000Z  PartyZ       1            EXIT   \n",
      "1  2023-08-15T13:25:45.442000Z  PartyX       4            EXIT   \n",
      "2  2023-07-07T02:03:20.354000Z  PartyX       4           TRADE   \n",
      "3  2023-08-02T04:55:34.632000Z  PartyK       2           TRADE   \n",
      "4  2023-02-08T06:49:44.186000Z  PartyX       4           TRADE   \n",
      "\n",
      "   Reporting Status  \n",
      "0        Failed Ack  \n",
      "1               ACK  \n",
      "2  Processing Error  \n",
      "3      Acknowledged  \n",
      "4      Acknowledged  \n",
      "\n",
      "[5 rows x 26 columns]\n"
     ]
    }
   ],
   "source": [
    "# View the first few rows of the dataset\n",
    "print(data.head())"
   ]
  },
  {
   "cell_type": "code",
   "execution_count": 99,
   "id": "dc299069",
   "metadata": {
    "scrolled": true
   },
   "outputs": [
    {
     "name": "stdout",
     "output_type": "stream",
     "text": [
      "            tradeId       version          rate          price       PartyId\n",
      "count  50000.000000  50000.000000  50000.000000   15014.000000  50000.000000\n",
      "mean   25000.500000      4.991940   4985.640510  502292.898972      3.163600\n",
      "std    14433.901067      2.593339   2892.605229  288205.734165      1.342919\n",
      "min        1.000000      1.000000      0.630700     108.503208      1.000000\n",
      "25%    12500.750000      3.000000   2473.364300  253646.139675      2.000000\n",
      "50%    25000.500000      5.000000   4988.018500  501724.834200      3.000000\n",
      "75%    37500.250000      7.000000   7484.013200  751081.198725      4.000000\n",
      "max    50000.000000      9.000000   9999.865100  999940.821500      5.000000\n"
     ]
    }
   ],
   "source": [
    "# Summary statistics\n",
    "print(data.describe())"
   ]
  },
  {
   "cell_type": "code",
   "execution_count": 100,
   "id": "d40646a0",
   "metadata": {},
   "outputs": [
    {
     "name": "stdout",
     "output_type": "stream",
     "text": [
      "tradeId                 0\n",
      "regulator               0\n",
      "version                 0\n",
      "assetClass              0\n",
      "clDateTime              0\n",
      "clStatus                0\n",
      "cflag                   0\n",
      "eFlag                   0\n",
      "cDateTime               0\n",
      "method                  0\n",
      "rate                    0\n",
      "expirationDate          0\n",
      "eventT                  0\n",
      "mType                   0\n",
      "Timestamp               0\n",
      "quantity                0\n",
      "seller                  0\n",
      "endDate                 0\n",
      "sType                   0\n",
      "Product                 0\n",
      "price               34986\n",
      "terminationDate      6209\n",
      "party                   0\n",
      "PartyId                 0\n",
      "transactionType         0\n",
      "Reporting Status        0\n",
      "dtype: int64\n"
     ]
    }
   ],
   "source": [
    "# Check for missing values\n",
    "print(data.isnull().sum())"
   ]
  },
  {
   "cell_type": "code",
   "execution_count": 101,
   "id": "73a9eb35",
   "metadata": {},
   "outputs": [],
   "source": [
    "# Impute missing values for 'price' column with the median value\n",
    "median_price = data['price'].median()\n",
    "data['price'].fillna(median_price, inplace=True)"
   ]
  },
  {
   "cell_type": "code",
   "execution_count": 102,
   "id": "bc05ad63",
   "metadata": {},
   "outputs": [],
   "source": [
    "# Impute missing values for terminationDate column with a placeholder value\n",
    "data['terminationDate'].fillna(data['terminationDate'].mode()[0], inplace=True)"
   ]
  },
  {
   "cell_type": "code",
   "execution_count": 103,
   "id": "4a4123e6",
   "metadata": {},
   "outputs": [
    {
     "name": "stdout",
     "output_type": "stream",
     "text": [
      "tradeId             0\n",
      "regulator           0\n",
      "version             0\n",
      "assetClass          0\n",
      "clDateTime          0\n",
      "clStatus            0\n",
      "cflag               0\n",
      "eFlag               0\n",
      "cDateTime           0\n",
      "method              0\n",
      "rate                0\n",
      "expirationDate      0\n",
      "eventT              0\n",
      "mType               0\n",
      "Timestamp           0\n",
      "quantity            0\n",
      "seller              0\n",
      "endDate             0\n",
      "sType               0\n",
      "Product             0\n",
      "price               0\n",
      "terminationDate     0\n",
      "party               0\n",
      "PartyId             0\n",
      "transactionType     0\n",
      "Reporting Status    0\n",
      "dtype: int64\n"
     ]
    }
   ],
   "source": [
    "# Check again for missing values\n",
    "print(data.isnull().sum())"
   ]
  },
  {
   "cell_type": "code",
   "execution_count": 104,
   "id": "9d331460",
   "metadata": {},
   "outputs": [
    {
     "name": "stdout",
     "output_type": "stream",
     "text": [
      "            tradeId       version          rate          price       PartyId\n",
      "count  50000.000000  50000.000000  50000.000000   50000.000000  50000.000000\n",
      "mean   25000.500000      4.991940   4985.640510  501895.412690      3.163600\n",
      "std    14433.901067      2.593339   2892.605229  157926.965540      1.342919\n",
      "min        1.000000      1.000000      0.630700     108.503208      1.000000\n",
      "25%    12500.750000      3.000000   2473.364300  501724.834200      2.000000\n",
      "50%    25000.500000      5.000000   4988.018500  501724.834200      3.000000\n",
      "75%    37500.250000      7.000000   7484.013200  501724.834200      4.000000\n",
      "max    50000.000000      9.000000   9999.865100  999940.821500      5.000000\n"
     ]
    }
   ],
   "source": [
    "# Again summarize the statistics\n",
    "print(data.describe())"
   ]
  },
  {
   "cell_type": "markdown",
   "id": "59d2e8f9",
   "metadata": {},
   "source": [
    "#### 2. Data Visualization: Create visualizations to present the results of the data analysis."
   ]
  },
  {
   "cell_type": "code",
   "execution_count": 105,
   "id": "384fc6ab",
   "metadata": {},
   "outputs": [],
   "source": [
    "# Select numerical features for analysis\n",
    "numerical_features = ['price','rate']"
   ]
  },
  {
   "cell_type": "code",
   "execution_count": 107,
   "id": "35b0fe41",
   "metadata": {},
   "outputs": [
    {
     "data": {
      "image/png": "[encoded data removed]",
      "text/plain": [
       "<Figure size 864x432 with 2 Axes>"
      ]
     },
     "metadata": {
      "needs_background": "light"
     },
     "output_type": "display_data"
    }
   ],
   "source": [
    "# Visualization 1: Plot Histograms for numerical features\n",
    "plt.figure(figsize=(12,6))\n",
    "for i, feature in enumerate(numerical_features,1):\n",
    "    plt.subplot(1,len(numerical_features),i)\n",
    "    sns.histplot(data[feature], kde=True, color='skyblue')\n",
    "    plt.title(f'Histogram of {feature}')\n",
    "    plt.xlabel(feature)\n",
    "    plt.ylabel('Frequency')\n",
    "plt.tight_layout()\n",
    "plt.show()"
   ]
  },
  {
   "cell_type": "code",
   "execution_count": 108,
   "id": "f7a9317d",
   "metadata": {},
   "outputs": [
    {
     "data": {
      "image/png": "[encoded data removed]",
      "text/plain": [
       "<Figure size 864x432 with 2 Axes>"
      ]
     },
     "metadata": {
      "needs_background": "light"
     },
     "output_type": "display_data"
    }
   ],
   "source": [
    "# Visualization 2: Plot box plots for numerical features\n",
    "plt.figure(figsize=(12, 6))\n",
    "for i, feature in enumerate(numerical_features, 1):\n",
    "    plt.subplot(1, len(numerical_features), i)\n",
    "    sns.boxplot(data=data, y=feature, color='lightgreen')\n",
    "    plt.title(f'Boxplot of {feature}')\n",
    "    plt.ylabel(feature)\n",
    "plt.tight_layout()\n",
    "plt.show()"
   ]
  },
  {
   "cell_type": "code",
   "execution_count": 109,
   "id": "18537054",
   "metadata": {},
   "outputs": [
    {
     "data": {
      "image/png": "[encoded data removed]",
      "text/plain": [
       "<Figure size 864x432 with 2 Axes>"
      ]
     },
     "metadata": {
      "needs_background": "light"
     },
     "output_type": "display_data"
    }
   ],
   "source": [
    "# Visualization 3: Explore relationships between variables using correlation analysis\n",
    "plt.figure(figsize=(12, 6))\n",
    "sns.heatmap(data.corr(), annot=True, cmap='coolwarm', fmt=\".2f\")\n",
    "plt.title(\"Correlation Matrix\")\n",
    "plt.show()"
   ]
  },
  {
   "cell_type": "code",
   "execution_count": 110,
   "id": "69afdfab",
   "metadata": {},
   "outputs": [
    {
     "data": {
      "image/png": "[encoded data removed]",
      "text/plain": [
       "<Figure size 864x432 with 1 Axes>"
      ]
     },
     "metadata": {
      "needs_background": "light"
     },
     "output_type": "display_data"
    }
   ],
   "source": [
    "# Visualization 4: Distribution of trade statuses\n",
    "plt.figure(figsize=(12, 6))\n",
    "sns.countplot(x='clStatus', data=data)\n",
    "plt.title('Distribution of Trade Statuses')\n",
    "plt.xlabel('Trade Status')\n",
    "plt.ylabel('Count')\n",
    "plt.show()"
   ]
  },
  {
   "cell_type": "markdown",
   "id": "4399785b",
   "metadata": {},
   "source": [
    "#### 3. Reporting: Generate a summary report that presents the findings from the data analysis and visualizations. Include key insights."
   ]
  },
  {
   "cell_type": "code",
   "execution_count": 94,
   "id": "f3593a4a",
   "metadata": {},
   "outputs": [
    {
     "name": "stdout",
     "output_type": "stream",
     "text": [
      "\n",
      "Summary Report:\n",
      "\n",
      "1. Asset Class Distribution:\n",
      "   - Most common asset class: FX\n",
      "   - Least common asset class: FX\n",
      "\n",
      "2. Transaction Type Distribution:\n",
      "   - Most common transaction type: TRADE\n",
      "   - Least common transaction type: Exit\n",
      "\n",
      "3. Price Analysis:\n",
      "   - Average price: $501895.41\n",
      "   - Maximum price: $999940.82\n",
      "   - Minimum price: $108.50\n",
      "\n",
      "4. Missing Values Handling:\n",
      "   - Price column: Filled missing values with median\n",
      "   - TerminationDate column: Filled missing values with mode\n",
      "   \n",
      "5. Count of Transactions by Asset Class: \n",
      "        FX    50000\n",
      "Name: assetClass, dtype: int64\n",
      "\n",
      "6. Distribution of Trade Statuses: \n",
      "        True     26684\n",
      "False    23316\n",
      "Name: clStatus, dtype: int64\n",
      "\n",
      "\n"
     ]
    }
   ],
   "source": [
    "# Summary report\n",
    "summary_report = \"\"\"\n",
    "Summary Report:\n",
    "\n",
    "1. Asset Class Distribution:\n",
    "   - Most common asset class: {asset_class_common}\n",
    "   - Least common asset class: {asset_class_least}\n",
    "\n",
    "2. Transaction Type Distribution:\n",
    "   - Most common transaction type: {transaction_type_common}\n",
    "   - Least common transaction type: {transaction_type_least}\n",
    "\n",
    "3. Price Analysis:\n",
    "   - Average price: ${average_price:.2f}\n",
    "   - Maximum price: ${max_price:.2f}\n",
    "   - Minimum price: ${min_price:.2f}\n",
    "\n",
    "4. Missing Values Handling:\n",
    "   - Price column: Filled missing values with median\n",
    "   - TerminationDate column: Filled missing values with mode\n",
    "   \n",
    "5. Count of Transactions by Asset Class: \n",
    "        {asset_class_counts}\n",
    "\n",
    "6. Distribution of Trade Statuses: \n",
    "        {trade_status_counts}\n",
    "\n",
    "\"\"\"\n",
    "\n",
    "# Calculate statistics\n",
    "average_price = data['price'].mean()\n",
    "max_price = data['price'].max()\n",
    "min_price = data['price'].min()\n",
    "asset_class_common = data['assetClass'].mode()[0]\n",
    "asset_class_least = data['assetClass'].value_counts().idxmin()\n",
    "transaction_type_common = data['transactionType'].mode()[0]\n",
    "transaction_type_least = data['transactionType'].value_counts().idxmin()\n",
    "asset_class_counts = data['assetClass'].value_counts()\n",
    "trade_status_counts=data['clStatus'].value_counts()\n",
    "\n",
    "# Print summary report\n",
    "print(summary_report.format(\n",
    "    asset_class_common=asset_class_common,\n",
    "    asset_class_least=asset_class_least,\n",
    "    transaction_type_common=transaction_type_common,\n",
    "    transaction_type_least=transaction_type_least,\n",
    "    average_price=average_price,\n",
    "    max_price=max_price,\n",
    "    min_price=min_price,\n",
    "    asset_class_counts=asset_class_counts,\n",
    "    trade_status_counts=trade_status_counts\n",
    "))\n"
   ]
  },
  {
   "cell_type": "markdown",
   "id": "434d60f7",
   "metadata": {},
   "source": [
    "### Problem 2 Solution :\n",
    "- Perform required data standardisation and normalization activities.\n",
    "- Find Association, correlation among columns in above dataset.\n",
    "- Find categorical features from this dataset for a classification model(use reporting status column as target vector if needed)\n",
    "- Implement the encoding strategy for such identified columns.\n",
    "- Group similar transaction together and identify no of such similar group."
   ]
  },
  {
   "cell_type": "code",
   "execution_count": 119,
   "id": "33e63b05",
   "metadata": {},
   "outputs": [],
   "source": [
    "# Import the libraries\n",
    "from sklearn.preprocessing import StandardScaler, MinMaxScaler, LabelEncoder\n",
    "from sklearn.feature_selection import chi2\n",
    "from itertools import combinations\n",
    "from sklearn.preprocessing import OneHotEncoder\n",
    "import numpy as np\n",
    "import category_encoders as ce"
   ]
  },
  {
   "cell_type": "code",
   "execution_count": 113,
   "id": "ccce8637",
   "metadata": {},
   "outputs": [],
   "source": [
    "# Data Standardization and Normalization\n",
    "scaler = StandardScaler()\n",
    "data_scaled = data.copy()\n",
    "num_cols=data_scaled.select_dtypes(include=['float64','int64']).columns\n",
    "data_scaled[num_cols]=scaler.fit_transform(data_scaled[num_cols])"
   ]
  },
  {
   "cell_type": "code",
   "execution_count": 134,
   "id": "0143a7b7",
   "metadata": {},
   "outputs": [
    {
     "name": "stdout",
     "output_type": "stream",
     "text": [
      "regulator          object\n",
      "assetClass         object\n",
      "clDateTime         object\n",
      "cflag              object\n",
      "cDateTime          object\n",
      "method             object\n",
      "expirationDate     object\n",
      "eventT             object\n",
      "mType              object\n",
      "Timestamp          object\n",
      "quantity           object\n",
      "seller             object\n",
      "endDate            object\n",
      "sType              object\n",
      "Product            object\n",
      "terminationDate    object\n",
      "party              object\n",
      "transactionType    object\n",
      "dtype: object\n"
     ]
    }
   ],
   "source": [
    "# Check data types of each column\n",
    "print(data.select_dtypes(include=['object']).dtypes)\n"
   ]
  },
  {
   "cell_type": "code",
   "execution_count": 137,
   "id": "432aec75",
   "metadata": {},
   "outputs": [],
   "source": [
    "# Association Analysis\n",
    "association_matrix = np.zeros((len(data.columns), len(data.columns)))\n",
    "for i, j in combinations(range(len(data.columns)), 2):\n",
    "    if data.iloc[:, i].dtype == 'O' and data.iloc[:, j].dtype == 'O':\n",
    "        chi2_stat, _ = chi2(data.iloc[:, i].fillna('NA').to_numpy().reshape(-1, 1), data.iloc[:, j].fillna('NA'))\n",
    "        association_matrix[i, j] = chi2_stat\n",
    "        association_matrix[j, i] = chi2_stat\n",
    "        \n",
    "print(\"Association Matrix:\")\n",
    "print(association_matrix)"
   ]
  },
  {
   "cell_type": "code",
   "execution_count": 149,
   "id": "c759a0c7",
   "metadata": {},
   "outputs": [
    {
     "name": "stdout",
     "output_type": "stream",
     "text": [
      "\n",
      "Correlation Matrix:\n",
      "           tradeId   version  clStatus     eFlag      rate     price   PartyId\n",
      "tradeId   1.000000 -0.002102  0.063872 -0.000457 -0.000581 -0.005098  0.010536\n",
      "version  -0.002102  1.000000 -0.002921 -0.001846  0.003418 -0.002838 -0.009178\n",
      "clStatus  0.063872 -0.002921  1.000000 -0.007996 -0.006058 -0.001147 -0.047483\n",
      "eFlag    -0.000457 -0.001846 -0.007996  1.000000 -0.000535 -0.003193  0.009376\n",
      "rate     -0.000581  0.003418 -0.006058 -0.000535  1.000000  0.003067  0.000781\n",
      "price    -0.005098 -0.002838 -0.001147 -0.003193  0.003067  1.000000 -0.000467\n",
      "PartyId   0.010536 -0.009178 -0.047483  0.009376  0.000781 -0.000467  1.000000\n"
     ]
    }
   ],
   "source": [
    "# Correlation Analysis\n",
    "correlation_matrix = data_scaled.corr()\n",
    "\n",
    "# Display result\n",
    "print(\"\\nCorrelation Matrix:\")\n",
    "print(correlation_matrix)"
   ]
  },
  {
   "cell_type": "code",
   "execution_count": 150,
   "id": "135fda4f",
   "metadata": {},
   "outputs": [
    {
     "name": "stdout",
     "output_type": "stream",
     "text": [
      "\n",
      "Categorical Features: ['regulator', 'assetClass', 'clDateTime', 'cflag', 'cDateTime', 'method', 'expirationDate', 'eventT', 'mType', 'Timestamp', 'quantity', 'seller', 'endDate', 'sType', 'Product', 'terminationDate', 'party', 'transactionType']\n"
     ]
    }
   ],
   "source": [
    "# Categorical Feature Identification\n",
    "categorical_features = data.select_dtypes(include=['object']).columns.tolist()\n",
    "\n",
    "# Display Results\n",
    "print(\"\\nCategorical Features:\", categorical_features)"
   ]
  },
  {
   "cell_type": "code",
   "execution_count": 151,
   "id": "de347f77",
   "metadata": {},
   "outputs": [
    {
     "name": "stdout",
     "output_type": "stream",
     "text": [
      "\n",
      "Encoded DataFrame:\n",
      "       tradeId  regulator  version  assetClass  clDateTime  clStatus  cflag  \\\n",
      "0            1          0        1           0       27209      True      1   \n",
      "1            2          0        9           0       29230     False      1   \n",
      "2            3          0        8           0       17571     False      1   \n",
      "3            4          0        1           0       37351     False      1   \n",
      "4            5          0        1           0        3196      True      2   \n",
      "...        ...        ...      ...         ...         ...       ...    ...   \n",
      "49995    49996          0        8           0       25309     False      2   \n",
      "49996    49997          0        2           0       33429     False      1   \n",
      "49997    49998          0        8           0       40644     False      5   \n",
      "49998    49999          0        2           0       37216      True      2   \n",
      "49999    50000          0        5           0       40767     False      3   \n",
      "\n",
      "       eFlag  cDateTime  method  ...  seller  endDate  sType  Product  \\\n",
      "0      False      46888       6  ...       0    19837      0        2   \n",
      "1      False      37735       7  ...       1    27946      0        2   \n",
      "2      False       9409       6  ...       1    30000      1        2   \n",
      "3       True      44258       1  ...       1    28937      0        3   \n",
      "4      False      29585       1  ...       0    46069      0        2   \n",
      "...      ...        ...     ...  ...     ...      ...    ...      ...   \n",
      "49995  False      13678       1  ...       0    48919      0        2   \n",
      "49996  False      46436       1  ...       0    19263      1        2   \n",
      "49997   True      43033       6  ...       1     2750      0        2   \n",
      "49998   True       8555       1  ...       0     3111      1        2   \n",
      "49999   True      46806       3  ...       0    39600      0        2   \n",
      "\n",
      "              price  terminationDate  party  PartyId  transactionType  \\\n",
      "0      501724.83420            21943      4        1                0   \n",
      "1      501724.83420            27234      2        4                0   \n",
      "2      501724.83420            22535      2        4                2   \n",
      "3       91773.25433            25685      0        2                2   \n",
      "4      501724.83420             4572      2        4                2   \n",
      "...             ...              ...    ...      ...              ...   \n",
      "49995  501724.83420            42982      2        4                0   \n",
      "49996  501724.83420            18105      2        4                2   \n",
      "49997  501724.83420            21609      4        1                0   \n",
      "49998  501724.83420            19112      1        3                0   \n",
      "49999  501724.83420                0      3        5                0   \n",
      "\n",
      "       Reporting Status  \n",
      "0                     3  \n",
      "1                     0  \n",
      "2                     6  \n",
      "3                     1  \n",
      "4                     1  \n",
      "...                 ...  \n",
      "49995                 5  \n",
      "49996                 5  \n",
      "49997                 5  \n",
      "49998                 0  \n",
      "49999                 2  \n",
      "\n",
      "[50000 rows x 26 columns]\n"
     ]
    }
   ],
   "source": [
    "# Encoding Strategy Implementation\n",
    "data_encoded = data.copy()\n",
    "label_encoders = {}\n",
    "for feature in categorical_features:\n",
    "    le = LabelEncoder()\n",
    "    data_encoded[feature] = le.fit_transform(data_encoded[feature])\n",
    "    label_encoders[feature] = le\n",
    "    \n",
    "print(\"\\nEncoded DataFrame:\")\n",
    "print(data_encoded)"
   ]
  },
  {
   "cell_type": "code",
   "execution_count": 152,
   "id": "813650f1",
   "metadata": {},
   "outputs": [
    {
     "name": "stdout",
     "output_type": "stream",
     "text": [
      "\n",
      "Similar Transaction Groups:\n",
      "  assetClass transactionType  count\n",
      "0         FX            EXIT  24366\n",
      "1         FX            Exit      1\n",
      "2         FX           TRADE  25633\n"
     ]
    }
   ],
   "source": [
    "# Grouping Similar Transactions\n",
    "similar_groups = data.groupby(['assetClass', 'transactionType']).size().reset_index(name='count')\n",
    "\n",
    "# Display results\n",
    "print(\"\\nSimilar Transaction Groups:\")\n",
    "print(similar_groups)"
   ]
  },
  {
   "cell_type": "code",
   "execution_count": 153,
   "id": "51255d01",
   "metadata": {},
   "outputs": [
    {
     "name": "stdout",
     "output_type": "stream",
     "text": [
      "\n",
      "Summary Report2 :\n",
      "\n",
      "1. Association Matrix:\n",
      "   [[0. 0. 0. 0. 0. 0. 0. 0. 0. 0. 0. 0. 0. 0. 0. 0. 0. 0. 0. 0. 0. 0. 0. 0.\n",
      "  0. 0.]\n",
      " [0. 0. 0. 0. 0. 0. 0. 0. 0. 0. 0. 0. 0. 0. 0. 0. 0. 0. 0. 0. 0. 0. 0. 0.\n",
      "  0. 0.]\n",
      " [0. 0. 0. 0. 0. 0. 0. 0. 0. 0. 0. 0. 0. 0. 0. 0. 0. 0. 0. 0. 0. 0. 0. 0.\n",
      "  0. 0.]\n",
      " [0. 0. 0. 0. 0. 0. 0. 0. 0. 0. 0. 0. 0. 0. 0. 0. 0. 0. 0. 0. 0. 0. 0. 0.\n",
      "  0. 0.]\n",
      " [0. 0. 0. 0. 0. 0. 0. 0. 0. 0. 0. 0. 0. 0. 0. 0. 0. 0. 0. 0. 0. 0. 0. 0.\n",
      "  0. 0.]\n",
      " [0. 0. 0. 0. 0. 0. 0. 0. 0. 0. 0. 0. 0. 0. 0. 0. 0. 0. 0. 0. 0. 0. 0. 0.\n",
      "  0. 0.]\n",
      " [0. 0. 0. 0. 0. 0. 0. 0. 0. 0. 0. 0. 0. 0. 0. 0. 0. 0. 0. 0. 0. 0. 0. 0.\n",
      "  0. 0.]\n",
      " [0. 0. 0. 0. 0. 0. 0. 0. 0. 0. 0. 0. 0. 0. 0. 0. 0. 0. 0. 0. 0. 0. 0. 0.\n",
      "  0. 0.]\n",
      " [0. 0. 0. 0. 0. 0. 0. 0. 0. 0. 0. 0. 0. 0. 0. 0. 0. 0. 0. 0. 0. 0. 0. 0.\n",
      "  0. 0.]\n",
      " [0. 0. 0. 0. 0. 0. 0. 0. 0. 0. 0. 0. 0. 0. 0. 0. 0. 0. 0. 0. 0. 0. 0. 0.\n",
      "  0. 0.]\n",
      " [0. 0. 0. 0. 0. 0. 0. 0. 0. 0. 0. 0. 0. 0. 0. 0. 0. 0. 0. 0. 0. 0. 0. 0.\n",
      "  0. 0.]\n",
      " [0. 0. 0. 0. 0. 0. 0. 0. 0. 0. 0. 0. 0. 0. 0. 0. 0. 0. 0. 0. 0. 0. 0. 0.\n",
      "  0. 0.]\n",
      " [0. 0. 0. 0. 0. 0. 0. 0. 0. 0. 0. 0. 0. 0. 0. 0. 0. 0. 0. 0. 0. 0. 0. 0.\n",
      "  0. 0.]\n",
      " [0. 0. 0. 0. 0. 0. 0. 0. 0. 0. 0. 0. 0. 0. 0. 0. 0. 0. 0. 0. 0. 0. 0. 0.\n",
      "  0. 0.]\n",
      " [0. 0. 0. 0. 0. 0. 0. 0. 0. 0. 0. 0. 0. 0. 0. 0. 0. 0. 0. 0. 0. 0. 0. 0.\n",
      "  0. 0.]\n",
      " [0. 0. 0. 0. 0. 0. 0. 0. 0. 0. 0. 0. 0. 0. 0. 0. 0. 0. 0. 0. 0. 0. 0. 0.\n",
      "  0. 0.]\n",
      " [0. 0. 0. 0. 0. 0. 0. 0. 0. 0. 0. 0. 0. 0. 0. 0. 0. 0. 0. 0. 0. 0. 0. 0.\n",
      "  0. 0.]\n",
      " [0. 0. 0. 0. 0. 0. 0. 0. 0. 0. 0. 0. 0. 0. 0. 0. 0. 0. 0. 0. 0. 0. 0. 0.\n",
      "  0. 0.]\n",
      " [0. 0. 0. 0. 0. 0. 0. 0. 0. 0. 0. 0. 0. 0. 0. 0. 0. 0. 0. 0. 0. 0. 0. 0.\n",
      "  0. 0.]\n",
      " [0. 0. 0. 0. 0. 0. 0. 0. 0. 0. 0. 0. 0. 0. 0. 0. 0. 0. 0. 0. 0. 0. 0. 0.\n",
      "  0. 0.]\n",
      " [0. 0. 0. 0. 0. 0. 0. 0. 0. 0. 0. 0. 0. 0. 0. 0. 0. 0. 0. 0. 0. 0. 0. 0.\n",
      "  0. 0.]\n",
      " [0. 0. 0. 0. 0. 0. 0. 0. 0. 0. 0. 0. 0. 0. 0. 0. 0. 0. 0. 0. 0. 0. 0. 0.\n",
      "  0. 0.]\n",
      " [0. 0. 0. 0. 0. 0. 0. 0. 0. 0. 0. 0. 0. 0. 0. 0. 0. 0. 0. 0. 0. 0. 0. 0.\n",
      "  0. 0.]\n",
      " [0. 0. 0. 0. 0. 0. 0. 0. 0. 0. 0. 0. 0. 0. 0. 0. 0. 0. 0. 0. 0. 0. 0. 0.\n",
      "  0. 0.]\n",
      " [0. 0. 0. 0. 0. 0. 0. 0. 0. 0. 0. 0. 0. 0. 0. 0. 0. 0. 0. 0. 0. 0. 0. 0.\n",
      "  0. 0.]\n",
      " [0. 0. 0. 0. 0. 0. 0. 0. 0. 0. 0. 0. 0. 0. 0. 0. 0. 0. 0. 0. 0. 0. 0. 0.\n",
      "  0. 0.]]\n",
      "\n",
      "2. Correlation Matrix:\n",
      "              tradeId   version  clStatus     eFlag      rate     price   PartyId\n",
      "tradeId   1.000000 -0.002102  0.063872 -0.000457 -0.000581 -0.005098  0.010536\n",
      "version  -0.002102  1.000000 -0.002921 -0.001846  0.003418 -0.002838 -0.009178\n",
      "clStatus  0.063872 -0.002921  1.000000 -0.007996 -0.006058 -0.001147 -0.047483\n",
      "eFlag    -0.000457 -0.001846 -0.007996  1.000000 -0.000535 -0.003193  0.009376\n",
      "rate     -0.000581  0.003418 -0.006058 -0.000535  1.000000  0.003067  0.000781\n",
      "price    -0.005098 -0.002838 -0.001147 -0.003193  0.003067  1.000000 -0.000467\n",
      "PartyId   0.010536 -0.009178 -0.047483  0.009376  0.000781 -0.000467  1.000000\n",
      "\n",
      "3. Categorical Feature:\n",
      "   ['regulator', 'assetClass', 'clDateTime', 'cflag', 'cDateTime', 'method', 'expirationDate', 'eventT', 'mType', 'Timestamp', 'quantity', 'seller', 'endDate', 'sType', 'Product', 'terminationDate', 'party', 'transactionType']\n",
      "   \n",
      "4. Encoded Dataframe:\n",
      "          tradeId  regulator  version  assetClass  clDateTime  clStatus  cflag  \\\n",
      "0            1          0        1           0       27209      True      1   \n",
      "1            2          0        9           0       29230     False      1   \n",
      "2            3          0        8           0       17571     False      1   \n",
      "3            4          0        1           0       37351     False      1   \n",
      "4            5          0        1           0        3196      True      2   \n",
      "...        ...        ...      ...         ...         ...       ...    ...   \n",
      "49995    49996          0        8           0       25309     False      2   \n",
      "49996    49997          0        2           0       33429     False      1   \n",
      "49997    49998          0        8           0       40644     False      5   \n",
      "49998    49999          0        2           0       37216      True      2   \n",
      "49999    50000          0        5           0       40767     False      3   \n",
      "\n",
      "       eFlag  cDateTime  method  ...  seller  endDate  sType  Product  \\\n",
      "0      False      46888       6  ...       0    19837      0        2   \n",
      "1      False      37735       7  ...       1    27946      0        2   \n",
      "2      False       9409       6  ...       1    30000      1        2   \n",
      "3       True      44258       1  ...       1    28937      0        3   \n",
      "4      False      29585       1  ...       0    46069      0        2   \n",
      "...      ...        ...     ...  ...     ...      ...    ...      ...   \n",
      "49995  False      13678       1  ...       0    48919      0        2   \n",
      "49996  False      46436       1  ...       0    19263      1        2   \n",
      "49997   True      43033       6  ...       1     2750      0        2   \n",
      "49998   True       8555       1  ...       0     3111      1        2   \n",
      "49999   True      46806       3  ...       0    39600      0        2   \n",
      "\n",
      "              price  terminationDate  party  PartyId  transactionType  \\\n",
      "0      501724.83420            21943      4        1                0   \n",
      "1      501724.83420            27234      2        4                0   \n",
      "2      501724.83420            22535      2        4                2   \n",
      "3       91773.25433            25685      0        2                2   \n",
      "4      501724.83420             4572      2        4                2   \n",
      "...             ...              ...    ...      ...              ...   \n",
      "49995  501724.83420            42982      2        4                0   \n",
      "49996  501724.83420            18105      2        4                2   \n",
      "49997  501724.83420            21609      4        1                0   \n",
      "49998  501724.83420            19112      1        3                0   \n",
      "49999  501724.83420                0      3        5                0   \n",
      "\n",
      "       Reporting Status  \n",
      "0                     3  \n",
      "1                     0  \n",
      "2                     6  \n",
      "3                     1  \n",
      "4                     1  \n",
      "...                 ...  \n",
      "49995                 5  \n",
      "49996                 5  \n",
      "49997                 5  \n",
      "49998                 0  \n",
      "49999                 2  \n",
      "\n",
      "[50000 rows x 26 columns]\n",
      "   \n",
      "5. Similar Transaction Groups: \n",
      "     assetClass transactionType  count\n",
      "0         FX            EXIT  24366\n",
      "1         FX            Exit      1\n",
      "2         FX           TRADE  25633\n",
      "\n",
      "\n",
      "\n"
     ]
    }
   ],
   "source": [
    "# Summary report2\n",
    "summary_report2 = \"\"\"\n",
    "Summary Report2 :\n",
    "\n",
    "1. Association Matrix:\n",
    "   {association_matrix}\n",
    "\n",
    "2. Correlation Matrix:\n",
    "   {correlation_matrix}\n",
    "\n",
    "3. Categorical Feature:\n",
    "   {categorical_features}\n",
    "   \n",
    "4. Encoded Dataframe:\n",
    "   {data_encoded}\n",
    "   \n",
    "5. Similar Transaction Groups: \n",
    "   {similar_groups}\n",
    "\n",
    "\n",
    "\"\"\"\n",
    "\n",
    "\n",
    "# Print summary report2\n",
    "print(summary_report2.format(\n",
    "    association_matrix=association_matrix,\n",
    "    correlation_matrix=correlation_matrix,\n",
    "    categorical_features=categorical_features,\n",
    "    data_encoded=data_encoded,\n",
    "    similar_groups=similar_groups\n",
    "))"
   ]
  },
  {
   "cell_type": "code",
   "execution_count": null,
   "id": "708892c4",
   "metadata": {},
   "outputs": [],
   "source": []
  }
 ],
 "metadata": {
  "kernelspec": {
   "display_name": "Python 3 (ipykernel)",
   "language": "python",
   "name": "python3"
  },
  "language_info": {
   "codemirror_mode": {
    "name": "ipython",
    "version": 3
   },
   "file_extension": ".py",
   "mimetype": "text/x-python",
   "name": "python",
   "nbconvert_exporter": "python",
   "pygments_lexer": "ipython3",
   "version": "3.9.7"
  }
 },
 "nbformat": 4,
 "nbformat_minor": 5
}
